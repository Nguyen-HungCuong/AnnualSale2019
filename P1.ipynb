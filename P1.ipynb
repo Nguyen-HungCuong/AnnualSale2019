{
  "nbformat": 4,
  "nbformat_minor": 0,
  "metadata": {
    "colab": {
      "name": "P1.ipynb",
      "provenance": [],
      "collapsed_sections": []
    },
    "kernelspec": {
      "name": "python3",
      "display_name": "Python 3"
    },
    "language_info": {
      "name": "python"
    }
  },
  "cells": [
    {
      "cell_type": "code",
      "execution_count": 1,
      "metadata": {
        "id": "gy33RAxA55q9"
      },
      "outputs": [],
      "source": [
        "import os\n",
        "import matplotlib.pyplot as  plt\n",
        "import pandas as pd\n"
      ]
    },
    {
      "cell_type": "markdown",
      "source": [
        "### 1: Import data"
      ],
      "metadata": {
        "id": "4sEY6hrL6p2R"
      }
    },
    {
      "cell_type": "code",
      "source": [
        "path = '/content/P1/'\n",
        "# List file in the folder Sales Reporting\n",
        "frames = []\n",
        "all_length = []\n",
        "for file in os.listdir(path):\n",
        "    if file.endswith('.csv'):\n",
        "        filepath = path + file\n",
        "        df1 = pd.read_csv(filepath)\n",
        "        frames.append(df1)\n",
        "        result = pd.concat(frames)\n",
        "        all_length.append(len(df1.index))\n",
        "\n",
        "df = result\n",
        "df.to_csv('anualSales2019.csv',index=False)\n",
        "df.head()\n",
        "\n"
      ],
      "metadata": {
        "colab": {
          "base_uri": "https://localhost:8080/",
          "height": 206
        },
        "id": "04g_zEgZ6uvz",
        "outputId": "e8762167-0911-424f-80bf-9ac0ffd30b60"
      },
      "execution_count": 3,
      "outputs": [
        {
          "output_type": "execute_result",
          "data": {
            "text/plain": [
              "  Order ID                Product Quantity Ordered Price Each      Order Date  \\\n",
              "0   248151  AA Batteries (4-pack)                4       3.84  09/17/19 14:44   \n",
              "1   248152   USB-C Charging Cable                2      11.95  09/29/19 10:19   \n",
              "2   248153   USB-C Charging Cable                1      11.95  09/16/19 17:48   \n",
              "3   248154       27in FHD Monitor                1     149.99  09/27/19 07:52   \n",
              "4   248155   USB-C Charging Cable                1      11.95  09/01/19 19:03   \n",
              "\n",
              "                        Purchase Address  \n",
              "0    380 North St, Los Angeles, CA 90001  \n",
              "1           511 8th St, Austin, TX 73301  \n",
              "2  151 Johnson St, Los Angeles, CA 90001  \n",
              "3      355 Hickory St, Seattle, WA 98101  \n",
              "4          125 5th St, Atlanta, GA 30301  "
            ],
            "text/html": [
              "\n",
              "  <div id=\"df-d8cc5402-4d68-4ba8-988b-7611a4f8a2bd\">\n",
              "    <div class=\"colab-df-container\">\n",
              "      <div>\n",
              "<style scoped>\n",
              "    .dataframe tbody tr th:only-of-type {\n",
              "        vertical-align: middle;\n",
              "    }\n",
              "\n",
              "    .dataframe tbody tr th {\n",
              "        vertical-align: top;\n",
              "    }\n",
              "\n",
              "    .dataframe thead th {\n",
              "        text-align: right;\n",
              "    }\n",
              "</style>\n",
              "<table border=\"1\" class=\"dataframe\">\n",
              "  <thead>\n",
              "    <tr style=\"text-align: right;\">\n",
              "      <th></th>\n",
              "      <th>Order ID</th>\n",
              "      <th>Product</th>\n",
              "      <th>Quantity Ordered</th>\n",
              "      <th>Price Each</th>\n",
              "      <th>Order Date</th>\n",
              "      <th>Purchase Address</th>\n",
              "    </tr>\n",
              "  </thead>\n",
              "  <tbody>\n",
              "    <tr>\n",
              "      <th>0</th>\n",
              "      <td>248151</td>\n",
              "      <td>AA Batteries (4-pack)</td>\n",
              "      <td>4</td>\n",
              "      <td>3.84</td>\n",
              "      <td>09/17/19 14:44</td>\n",
              "      <td>380 North St, Los Angeles, CA 90001</td>\n",
              "    </tr>\n",
              "    <tr>\n",
              "      <th>1</th>\n",
              "      <td>248152</td>\n",
              "      <td>USB-C Charging Cable</td>\n",
              "      <td>2</td>\n",
              "      <td>11.95</td>\n",
              "      <td>09/29/19 10:19</td>\n",
              "      <td>511 8th St, Austin, TX 73301</td>\n",
              "    </tr>\n",
              "    <tr>\n",
              "      <th>2</th>\n",
              "      <td>248153</td>\n",
              "      <td>USB-C Charging Cable</td>\n",
              "      <td>1</td>\n",
              "      <td>11.95</td>\n",
              "      <td>09/16/19 17:48</td>\n",
              "      <td>151 Johnson St, Los Angeles, CA 90001</td>\n",
              "    </tr>\n",
              "    <tr>\n",
              "      <th>3</th>\n",
              "      <td>248154</td>\n",
              "      <td>27in FHD Monitor</td>\n",
              "      <td>1</td>\n",
              "      <td>149.99</td>\n",
              "      <td>09/27/19 07:52</td>\n",
              "      <td>355 Hickory St, Seattle, WA 98101</td>\n",
              "    </tr>\n",
              "    <tr>\n",
              "      <th>4</th>\n",
              "      <td>248155</td>\n",
              "      <td>USB-C Charging Cable</td>\n",
              "      <td>1</td>\n",
              "      <td>11.95</td>\n",
              "      <td>09/01/19 19:03</td>\n",
              "      <td>125 5th St, Atlanta, GA 30301</td>\n",
              "    </tr>\n",
              "  </tbody>\n",
              "</table>\n",
              "</div>\n",
              "      <button class=\"colab-df-convert\" onclick=\"convertToInteractive('df-d8cc5402-4d68-4ba8-988b-7611a4f8a2bd')\"\n",
              "              title=\"Convert this dataframe to an interactive table.\"\n",
              "              style=\"display:none;\">\n",
              "        \n",
              "  <svg xmlns=\"http://www.w3.org/2000/svg\" height=\"24px\"viewBox=\"0 0 24 24\"\n",
              "       width=\"24px\">\n",
              "    <path d=\"M0 0h24v24H0V0z\" fill=\"none\"/>\n",
              "    <path d=\"M18.56 5.44l.94 2.06.94-2.06 2.06-.94-2.06-.94-.94-2.06-.94 2.06-2.06.94zm-11 1L8.5 8.5l.94-2.06 2.06-.94-2.06-.94L8.5 2.5l-.94 2.06-2.06.94zm10 10l.94 2.06.94-2.06 2.06-.94-2.06-.94-.94-2.06-.94 2.06-2.06.94z\"/><path d=\"M17.41 7.96l-1.37-1.37c-.4-.4-.92-.59-1.43-.59-.52 0-1.04.2-1.43.59L10.3 9.45l-7.72 7.72c-.78.78-.78 2.05 0 2.83L4 21.41c.39.39.9.59 1.41.59.51 0 1.02-.2 1.41-.59l7.78-7.78 2.81-2.81c.8-.78.8-2.07 0-2.86zM5.41 20L4 18.59l7.72-7.72 1.47 1.35L5.41 20z\"/>\n",
              "  </svg>\n",
              "      </button>\n",
              "      \n",
              "  <style>\n",
              "    .colab-df-container {\n",
              "      display:flex;\n",
              "      flex-wrap:wrap;\n",
              "      gap: 12px;\n",
              "    }\n",
              "\n",
              "    .colab-df-convert {\n",
              "      background-color: #E8F0FE;\n",
              "      border: none;\n",
              "      border-radius: 50%;\n",
              "      cursor: pointer;\n",
              "      display: none;\n",
              "      fill: #1967D2;\n",
              "      height: 32px;\n",
              "      padding: 0 0 0 0;\n",
              "      width: 32px;\n",
              "    }\n",
              "\n",
              "    .colab-df-convert:hover {\n",
              "      background-color: #E2EBFA;\n",
              "      box-shadow: 0px 1px 2px rgba(60, 64, 67, 0.3), 0px 1px 3px 1px rgba(60, 64, 67, 0.15);\n",
              "      fill: #174EA6;\n",
              "    }\n",
              "\n",
              "    [theme=dark] .colab-df-convert {\n",
              "      background-color: #3B4455;\n",
              "      fill: #D2E3FC;\n",
              "    }\n",
              "\n",
              "    [theme=dark] .colab-df-convert:hover {\n",
              "      background-color: #434B5C;\n",
              "      box-shadow: 0px 1px 3px 1px rgba(0, 0, 0, 0.15);\n",
              "      filter: drop-shadow(0px 1px 2px rgba(0, 0, 0, 0.3));\n",
              "      fill: #FFFFFF;\n",
              "    }\n",
              "  </style>\n",
              "\n",
              "      <script>\n",
              "        const buttonEl =\n",
              "          document.querySelector('#df-d8cc5402-4d68-4ba8-988b-7611a4f8a2bd button.colab-df-convert');\n",
              "        buttonEl.style.display =\n",
              "          google.colab.kernel.accessAllowed ? 'block' : 'none';\n",
              "\n",
              "        async function convertToInteractive(key) {\n",
              "          const element = document.querySelector('#df-d8cc5402-4d68-4ba8-988b-7611a4f8a2bd');\n",
              "          const dataTable =\n",
              "            await google.colab.kernel.invokeFunction('convertToInteractive',\n",
              "                                                     [key], {});\n",
              "          if (!dataTable) return;\n",
              "\n",
              "          const docLinkHtml = 'Like what you see? Visit the ' +\n",
              "            '<a target=\"_blank\" href=https://colab.research.google.com/notebooks/data_table.ipynb>data table notebook</a>'\n",
              "            + ' to learn more about interactive tables.';\n",
              "          element.innerHTML = '';\n",
              "          dataTable['output_type'] = 'display_data';\n",
              "          await google.colab.output.renderOutput(dataTable, element);\n",
              "          const docLink = document.createElement('div');\n",
              "          docLink.innerHTML = docLinkHtml;\n",
              "          element.appendChild(docLink);\n",
              "        }\n",
              "      </script>\n",
              "    </div>\n",
              "  </div>\n",
              "  "
            ]
          },
          "metadata": {},
          "execution_count": 3
        }
      ]
    },
    {
      "cell_type": "markdown",
      "source": [
        "### 2. Processing Data"
      ],
      "metadata": {
        "id": "0nvs7uPg68bp"
      }
    },
    {
      "cell_type": "code",
      "source": [
        "df['Month'] = df['Order Date'].str.slice(start=0,stop=2,step=1)\n",
        "\n",
        "# Extract unique values in Month Column\n",
        "set(df['Month'])"
      ],
      "metadata": {
        "colab": {
          "base_uri": "https://localhost:8080/"
        },
        "id": "XSK89elo6_Wo",
        "outputId": "f3676241-bbd1-4c05-f085-d80a89efd9c5"
      },
      "execution_count": 4,
      "outputs": [
        {
          "output_type": "execute_result",
          "data": {
            "text/plain": [
              "{'01',\n",
              " '02',\n",
              " '03',\n",
              " '04',\n",
              " '05',\n",
              " '06',\n",
              " '07',\n",
              " '08',\n",
              " '09',\n",
              " '10',\n",
              " '11',\n",
              " '12',\n",
              " 'Or',\n",
              " nan}"
            ]
          },
          "metadata": {},
          "execution_count": 4
        }
      ]
    },
    {
      "cell_type": "markdown",
      "source": [
        "### 2.1. Get rid of 'NaN' and 'Or' value"
      ],
      "metadata": {
        "id": "qbo_Wpm57FB9"
      }
    },
    {
      "cell_type": "code",
      "source": [
        "df = df.dropna(how='all') # Remove NaN values\n",
        "df = df[df['Month'] != 'Or'] # Remove Or values\n",
        "df.head()"
      ],
      "metadata": {
        "colab": {
          "base_uri": "https://localhost:8080/",
          "height": 250
        },
        "id": "UBZeOsoj7HBr",
        "outputId": "c6e6e765-8b98-48da-f38a-64b4ecaf2c2c"
      },
      "execution_count": 5,
      "outputs": [
        {
          "output_type": "execute_result",
          "data": {
            "text/plain": [
              "  Order ID                Product Quantity Ordered Price Each      Order Date  \\\n",
              "0   248151  AA Batteries (4-pack)                4       3.84  09/17/19 14:44   \n",
              "1   248152   USB-C Charging Cable                2      11.95  09/29/19 10:19   \n",
              "2   248153   USB-C Charging Cable                1      11.95  09/16/19 17:48   \n",
              "3   248154       27in FHD Monitor                1     149.99  09/27/19 07:52   \n",
              "4   248155   USB-C Charging Cable                1      11.95  09/01/19 19:03   \n",
              "\n",
              "                        Purchase Address Month  \n",
              "0    380 North St, Los Angeles, CA 90001    09  \n",
              "1           511 8th St, Austin, TX 73301    09  \n",
              "2  151 Johnson St, Los Angeles, CA 90001    09  \n",
              "3      355 Hickory St, Seattle, WA 98101    09  \n",
              "4          125 5th St, Atlanta, GA 30301    09  "
            ],
            "text/html": [
              "\n",
              "  <div id=\"df-e59e3fdd-e70f-48e5-a597-d39eec9c5f2e\">\n",
              "    <div class=\"colab-df-container\">\n",
              "      <div>\n",
              "<style scoped>\n",
              "    .dataframe tbody tr th:only-of-type {\n",
              "        vertical-align: middle;\n",
              "    }\n",
              "\n",
              "    .dataframe tbody tr th {\n",
              "        vertical-align: top;\n",
              "    }\n",
              "\n",
              "    .dataframe thead th {\n",
              "        text-align: right;\n",
              "    }\n",
              "</style>\n",
              "<table border=\"1\" class=\"dataframe\">\n",
              "  <thead>\n",
              "    <tr style=\"text-align: right;\">\n",
              "      <th></th>\n",
              "      <th>Order ID</th>\n",
              "      <th>Product</th>\n",
              "      <th>Quantity Ordered</th>\n",
              "      <th>Price Each</th>\n",
              "      <th>Order Date</th>\n",
              "      <th>Purchase Address</th>\n",
              "      <th>Month</th>\n",
              "    </tr>\n",
              "  </thead>\n",
              "  <tbody>\n",
              "    <tr>\n",
              "      <th>0</th>\n",
              "      <td>248151</td>\n",
              "      <td>AA Batteries (4-pack)</td>\n",
              "      <td>4</td>\n",
              "      <td>3.84</td>\n",
              "      <td>09/17/19 14:44</td>\n",
              "      <td>380 North St, Los Angeles, CA 90001</td>\n",
              "      <td>09</td>\n",
              "    </tr>\n",
              "    <tr>\n",
              "      <th>1</th>\n",
              "      <td>248152</td>\n",
              "      <td>USB-C Charging Cable</td>\n",
              "      <td>2</td>\n",
              "      <td>11.95</td>\n",
              "      <td>09/29/19 10:19</td>\n",
              "      <td>511 8th St, Austin, TX 73301</td>\n",
              "      <td>09</td>\n",
              "    </tr>\n",
              "    <tr>\n",
              "      <th>2</th>\n",
              "      <td>248153</td>\n",
              "      <td>USB-C Charging Cable</td>\n",
              "      <td>1</td>\n",
              "      <td>11.95</td>\n",
              "      <td>09/16/19 17:48</td>\n",
              "      <td>151 Johnson St, Los Angeles, CA 90001</td>\n",
              "      <td>09</td>\n",
              "    </tr>\n",
              "    <tr>\n",
              "      <th>3</th>\n",
              "      <td>248154</td>\n",
              "      <td>27in FHD Monitor</td>\n",
              "      <td>1</td>\n",
              "      <td>149.99</td>\n",
              "      <td>09/27/19 07:52</td>\n",
              "      <td>355 Hickory St, Seattle, WA 98101</td>\n",
              "      <td>09</td>\n",
              "    </tr>\n",
              "    <tr>\n",
              "      <th>4</th>\n",
              "      <td>248155</td>\n",
              "      <td>USB-C Charging Cable</td>\n",
              "      <td>1</td>\n",
              "      <td>11.95</td>\n",
              "      <td>09/01/19 19:03</td>\n",
              "      <td>125 5th St, Atlanta, GA 30301</td>\n",
              "      <td>09</td>\n",
              "    </tr>\n",
              "  </tbody>\n",
              "</table>\n",
              "</div>\n",
              "      <button class=\"colab-df-convert\" onclick=\"convertToInteractive('df-e59e3fdd-e70f-48e5-a597-d39eec9c5f2e')\"\n",
              "              title=\"Convert this dataframe to an interactive table.\"\n",
              "              style=\"display:none;\">\n",
              "        \n",
              "  <svg xmlns=\"http://www.w3.org/2000/svg\" height=\"24px\"viewBox=\"0 0 24 24\"\n",
              "       width=\"24px\">\n",
              "    <path d=\"M0 0h24v24H0V0z\" fill=\"none\"/>\n",
              "    <path d=\"M18.56 5.44l.94 2.06.94-2.06 2.06-.94-2.06-.94-.94-2.06-.94 2.06-2.06.94zm-11 1L8.5 8.5l.94-2.06 2.06-.94-2.06-.94L8.5 2.5l-.94 2.06-2.06.94zm10 10l.94 2.06.94-2.06 2.06-.94-2.06-.94-.94-2.06-.94 2.06-2.06.94z\"/><path d=\"M17.41 7.96l-1.37-1.37c-.4-.4-.92-.59-1.43-.59-.52 0-1.04.2-1.43.59L10.3 9.45l-7.72 7.72c-.78.78-.78 2.05 0 2.83L4 21.41c.39.39.9.59 1.41.59.51 0 1.02-.2 1.41-.59l7.78-7.78 2.81-2.81c.8-.78.8-2.07 0-2.86zM5.41 20L4 18.59l7.72-7.72 1.47 1.35L5.41 20z\"/>\n",
              "  </svg>\n",
              "      </button>\n",
              "      \n",
              "  <style>\n",
              "    .colab-df-container {\n",
              "      display:flex;\n",
              "      flex-wrap:wrap;\n",
              "      gap: 12px;\n",
              "    }\n",
              "\n",
              "    .colab-df-convert {\n",
              "      background-color: #E8F0FE;\n",
              "      border: none;\n",
              "      border-radius: 50%;\n",
              "      cursor: pointer;\n",
              "      display: none;\n",
              "      fill: #1967D2;\n",
              "      height: 32px;\n",
              "      padding: 0 0 0 0;\n",
              "      width: 32px;\n",
              "    }\n",
              "\n",
              "    .colab-df-convert:hover {\n",
              "      background-color: #E2EBFA;\n",
              "      box-shadow: 0px 1px 2px rgba(60, 64, 67, 0.3), 0px 1px 3px 1px rgba(60, 64, 67, 0.15);\n",
              "      fill: #174EA6;\n",
              "    }\n",
              "\n",
              "    [theme=dark] .colab-df-convert {\n",
              "      background-color: #3B4455;\n",
              "      fill: #D2E3FC;\n",
              "    }\n",
              "\n",
              "    [theme=dark] .colab-df-convert:hover {\n",
              "      background-color: #434B5C;\n",
              "      box-shadow: 0px 1px 3px 1px rgba(0, 0, 0, 0.15);\n",
              "      filter: drop-shadow(0px 1px 2px rgba(0, 0, 0, 0.3));\n",
              "      fill: #FFFFFF;\n",
              "    }\n",
              "  </style>\n",
              "\n",
              "      <script>\n",
              "        const buttonEl =\n",
              "          document.querySelector('#df-e59e3fdd-e70f-48e5-a597-d39eec9c5f2e button.colab-df-convert');\n",
              "        buttonEl.style.display =\n",
              "          google.colab.kernel.accessAllowed ? 'block' : 'none';\n",
              "\n",
              "        async function convertToInteractive(key) {\n",
              "          const element = document.querySelector('#df-e59e3fdd-e70f-48e5-a597-d39eec9c5f2e');\n",
              "          const dataTable =\n",
              "            await google.colab.kernel.invokeFunction('convertToInteractive',\n",
              "                                                     [key], {});\n",
              "          if (!dataTable) return;\n",
              "\n",
              "          const docLinkHtml = 'Like what you see? Visit the ' +\n",
              "            '<a target=\"_blank\" href=https://colab.research.google.com/notebooks/data_table.ipynb>data table notebook</a>'\n",
              "            + ' to learn more about interactive tables.';\n",
              "          element.innerHTML = '';\n",
              "          dataTable['output_type'] = 'display_data';\n",
              "          await google.colab.output.renderOutput(dataTable, element);\n",
              "          const docLink = document.createElement('div');\n",
              "          docLink.innerHTML = docLinkHtml;\n",
              "          element.appendChild(docLink);\n",
              "        }\n",
              "      </script>\n",
              "    </div>\n",
              "  </div>\n",
              "  "
            ]
          },
          "metadata": {},
          "execution_count": 5
        }
      ]
    },
    {
      "cell_type": "markdown",
      "source": [
        "### 3. Reporting"
      ],
      "metadata": {
        "id": "0FUnVx3f7NRM"
      }
    },
    {
      "cell_type": "markdown",
      "source": [
        "#### 3.1. What was the best month for sales? How much was earned"
      ],
      "metadata": {
        "id": "Y1hqBSqO7P90"
      }
    },
    {
      "cell_type": "code",
      "source": [
        "# Convert Format \n",
        "df['Quantity Ordered'] = pd.to_numeric(df['Quantity Ordered'],downcast='integer')\n",
        "df['Price Each']       = pd.to_numeric(df['Price Each'],downcast='float')"
      ],
      "metadata": {
        "id": "Es35iCEy7Sgj"
      },
      "execution_count": 7,
      "outputs": []
    },
    {
      "cell_type": "code",
      "source": [
        "df['Sales'] = df['Quantity Ordered'] * df['Price Each']\n",
        "moving_column = df.pop('Sales')\n",
        "df.insert(4,'Sales',moving_column)\n",
        "df.head()\n"
      ],
      "metadata": {
        "colab": {
          "base_uri": "https://localhost:8080/",
          "height": 354
        },
        "id": "TxcXkalH7T4x",
        "outputId": "30f91deb-73e0-4124-d137-4877887b0350"
      },
      "execution_count": 9,
      "outputs": [
        {
          "output_type": "execute_result",
          "data": {
            "text/plain": [
              "  Order ID                Product  Quantity Ordered  Price Each       Sales  \\\n",
              "0   248151  AA Batteries (4-pack)                 4    3.840000   15.360000   \n",
              "1   248152   USB-C Charging Cable                 2   11.950000   23.900000   \n",
              "2   248153   USB-C Charging Cable                 1   11.950000   11.950000   \n",
              "3   248154       27in FHD Monitor                 1  149.990005  149.990005   \n",
              "4   248155   USB-C Charging Cable                 1   11.950000   11.950000   \n",
              "\n",
              "       Order Date                       Purchase Address Month  \n",
              "0  09/17/19 14:44    380 North St, Los Angeles, CA 90001    09  \n",
              "1  09/29/19 10:19           511 8th St, Austin, TX 73301    09  \n",
              "2  09/16/19 17:48  151 Johnson St, Los Angeles, CA 90001    09  \n",
              "3  09/27/19 07:52      355 Hickory St, Seattle, WA 98101    09  \n",
              "4  09/01/19 19:03          125 5th St, Atlanta, GA 30301    09  "
            ],
            "text/html": [
              "\n",
              "  <div id=\"df-e81caa1b-c070-4979-bc0c-1c341f0d97a1\">\n",
              "    <div class=\"colab-df-container\">\n",
              "      <div>\n",
              "<style scoped>\n",
              "    .dataframe tbody tr th:only-of-type {\n",
              "        vertical-align: middle;\n",
              "    }\n",
              "\n",
              "    .dataframe tbody tr th {\n",
              "        vertical-align: top;\n",
              "    }\n",
              "\n",
              "    .dataframe thead th {\n",
              "        text-align: right;\n",
              "    }\n",
              "</style>\n",
              "<table border=\"1\" class=\"dataframe\">\n",
              "  <thead>\n",
              "    <tr style=\"text-align: right;\">\n",
              "      <th></th>\n",
              "      <th>Order ID</th>\n",
              "      <th>Product</th>\n",
              "      <th>Quantity Ordered</th>\n",
              "      <th>Price Each</th>\n",
              "      <th>Sales</th>\n",
              "      <th>Order Date</th>\n",
              "      <th>Purchase Address</th>\n",
              "      <th>Month</th>\n",
              "    </tr>\n",
              "  </thead>\n",
              "  <tbody>\n",
              "    <tr>\n",
              "      <th>0</th>\n",
              "      <td>248151</td>\n",
              "      <td>AA Batteries (4-pack)</td>\n",
              "      <td>4</td>\n",
              "      <td>3.840000</td>\n",
              "      <td>15.360000</td>\n",
              "      <td>09/17/19 14:44</td>\n",
              "      <td>380 North St, Los Angeles, CA 90001</td>\n",
              "      <td>09</td>\n",
              "    </tr>\n",
              "    <tr>\n",
              "      <th>1</th>\n",
              "      <td>248152</td>\n",
              "      <td>USB-C Charging Cable</td>\n",
              "      <td>2</td>\n",
              "      <td>11.950000</td>\n",
              "      <td>23.900000</td>\n",
              "      <td>09/29/19 10:19</td>\n",
              "      <td>511 8th St, Austin, TX 73301</td>\n",
              "      <td>09</td>\n",
              "    </tr>\n",
              "    <tr>\n",
              "      <th>2</th>\n",
              "      <td>248153</td>\n",
              "      <td>USB-C Charging Cable</td>\n",
              "      <td>1</td>\n",
              "      <td>11.950000</td>\n",
              "      <td>11.950000</td>\n",
              "      <td>09/16/19 17:48</td>\n",
              "      <td>151 Johnson St, Los Angeles, CA 90001</td>\n",
              "      <td>09</td>\n",
              "    </tr>\n",
              "    <tr>\n",
              "      <th>3</th>\n",
              "      <td>248154</td>\n",
              "      <td>27in FHD Monitor</td>\n",
              "      <td>1</td>\n",
              "      <td>149.990005</td>\n",
              "      <td>149.990005</td>\n",
              "      <td>09/27/19 07:52</td>\n",
              "      <td>355 Hickory St, Seattle, WA 98101</td>\n",
              "      <td>09</td>\n",
              "    </tr>\n",
              "    <tr>\n",
              "      <th>4</th>\n",
              "      <td>248155</td>\n",
              "      <td>USB-C Charging Cable</td>\n",
              "      <td>1</td>\n",
              "      <td>11.950000</td>\n",
              "      <td>11.950000</td>\n",
              "      <td>09/01/19 19:03</td>\n",
              "      <td>125 5th St, Atlanta, GA 30301</td>\n",
              "      <td>09</td>\n",
              "    </tr>\n",
              "  </tbody>\n",
              "</table>\n",
              "</div>\n",
              "      <button class=\"colab-df-convert\" onclick=\"convertToInteractive('df-e81caa1b-c070-4979-bc0c-1c341f0d97a1')\"\n",
              "              title=\"Convert this dataframe to an interactive table.\"\n",
              "              style=\"display:none;\">\n",
              "        \n",
              "  <svg xmlns=\"http://www.w3.org/2000/svg\" height=\"24px\"viewBox=\"0 0 24 24\"\n",
              "       width=\"24px\">\n",
              "    <path d=\"M0 0h24v24H0V0z\" fill=\"none\"/>\n",
              "    <path d=\"M18.56 5.44l.94 2.06.94-2.06 2.06-.94-2.06-.94-.94-2.06-.94 2.06-2.06.94zm-11 1L8.5 8.5l.94-2.06 2.06-.94-2.06-.94L8.5 2.5l-.94 2.06-2.06.94zm10 10l.94 2.06.94-2.06 2.06-.94-2.06-.94-.94-2.06-.94 2.06-2.06.94z\"/><path d=\"M17.41 7.96l-1.37-1.37c-.4-.4-.92-.59-1.43-.59-.52 0-1.04.2-1.43.59L10.3 9.45l-7.72 7.72c-.78.78-.78 2.05 0 2.83L4 21.41c.39.39.9.59 1.41.59.51 0 1.02-.2 1.41-.59l7.78-7.78 2.81-2.81c.8-.78.8-2.07 0-2.86zM5.41 20L4 18.59l7.72-7.72 1.47 1.35L5.41 20z\"/>\n",
              "  </svg>\n",
              "      </button>\n",
              "      \n",
              "  <style>\n",
              "    .colab-df-container {\n",
              "      display:flex;\n",
              "      flex-wrap:wrap;\n",
              "      gap: 12px;\n",
              "    }\n",
              "\n",
              "    .colab-df-convert {\n",
              "      background-color: #E8F0FE;\n",
              "      border: none;\n",
              "      border-radius: 50%;\n",
              "      cursor: pointer;\n",
              "      display: none;\n",
              "      fill: #1967D2;\n",
              "      height: 32px;\n",
              "      padding: 0 0 0 0;\n",
              "      width: 32px;\n",
              "    }\n",
              "\n",
              "    .colab-df-convert:hover {\n",
              "      background-color: #E2EBFA;\n",
              "      box-shadow: 0px 1px 2px rgba(60, 64, 67, 0.3), 0px 1px 3px 1px rgba(60, 64, 67, 0.15);\n",
              "      fill: #174EA6;\n",
              "    }\n",
              "\n",
              "    [theme=dark] .colab-df-convert {\n",
              "      background-color: #3B4455;\n",
              "      fill: #D2E3FC;\n",
              "    }\n",
              "\n",
              "    [theme=dark] .colab-df-convert:hover {\n",
              "      background-color: #434B5C;\n",
              "      box-shadow: 0px 1px 3px 1px rgba(0, 0, 0, 0.15);\n",
              "      filter: drop-shadow(0px 1px 2px rgba(0, 0, 0, 0.3));\n",
              "      fill: #FFFFFF;\n",
              "    }\n",
              "  </style>\n",
              "\n",
              "      <script>\n",
              "        const buttonEl =\n",
              "          document.querySelector('#df-e81caa1b-c070-4979-bc0c-1c341f0d97a1 button.colab-df-convert');\n",
              "        buttonEl.style.display =\n",
              "          google.colab.kernel.accessAllowed ? 'block' : 'none';\n",
              "\n",
              "        async function convertToInteractive(key) {\n",
              "          const element = document.querySelector('#df-e81caa1b-c070-4979-bc0c-1c341f0d97a1');\n",
              "          const dataTable =\n",
              "            await google.colab.kernel.invokeFunction('convertToInteractive',\n",
              "                                                     [key], {});\n",
              "          if (!dataTable) return;\n",
              "\n",
              "          const docLinkHtml = 'Like what you see? Visit the ' +\n",
              "            '<a target=\"_blank\" href=https://colab.research.google.com/notebooks/data_table.ipynb>data table notebook</a>'\n",
              "            + ' to learn more about interactive tables.';\n",
              "          element.innerHTML = '';\n",
              "          dataTable['output_type'] = 'display_data';\n",
              "          await google.colab.output.renderOutput(dataTable, element);\n",
              "          const docLink = document.createElement('div');\n",
              "          docLink.innerHTML = docLinkHtml;\n",
              "          element.appendChild(docLink);\n",
              "        }\n",
              "      </script>\n",
              "    </div>\n",
              "  </div>\n",
              "  "
            ]
          },
          "metadata": {},
          "execution_count": 9
        }
      ]
    },
    {
      "cell_type": "code",
      "source": [
        "# The largest sales\n",
        "sales_value = df.groupby('Month').sum()['Sales']\n",
        "sales_value.max()\n",
        "\n",
        "# The month with largest sales\n",
        "max_value = sales_value.max()\n",
        "for month,sales in sales_value.items():\n",
        "    if sales == max_value:\n",
        "        print (f'The best month for sales is {month} with {sales}')\n"
      ],
      "metadata": {
        "colab": {
          "base_uri": "https://localhost:8080/"
        },
        "id": "cQUQPqeA7fWH",
        "outputId": "50a5024e-9dd1-45cb-82c5-20114d2badc8"
      },
      "execution_count": 10,
      "outputs": [
        {
          "output_type": "stream",
          "name": "stdout",
          "text": [
            "The best month for sales is 12 with 4613443.5\n"
          ]
        }
      ]
    },
    {
      "cell_type": "markdown",
      "source": [
        "Why 12 is the best month?\n",
        "- Holiday season (eg. Christmans, New Year, etc)\n",
        "- New launches"
      ],
      "metadata": {
        "id": "_QEzdezB7iLH"
      }
    },
    {
      "cell_type": "code",
      "source": [
        "# Visualization for the best\n",
        "months = range(1,13)\n",
        "plt.bar(x = months ,height = sales_value)\n",
        "plt.xticks(months)\n",
        "plt.xlabel('Months')\n",
        "plt.ylabel('Sales in USD')\n",
        "plt.show()"
      ],
      "metadata": {
        "colab": {
          "base_uri": "https://localhost:8080/",
          "height": 290
        },
        "id": "qlCWmlbp7jW3",
        "outputId": "d07991be-fa1a-42f1-a02a-db6da236e060"
      },
      "execution_count": 11,
      "outputs": [
        {
          "output_type": "display_data",
          "data": {
            "text/plain": [
              "<Figure size 432x288 with 1 Axes>"
            ],
            "image/png": "[encoded data removed]"
          },
          "metadata": {
            "needs_background": "light"
          }
        }
      ]
    },
    {
      "cell_type": "markdown",
      "source": [
        "### 3.2. What city has the best sales?"
      ],
      "metadata": {
        "id": "mbdkeHam7nuV"
      }
    },
    {
      "cell_type": "code",
      "source": [
        "city = lambda address: address.split(',')[1]\n",
        "df['City'] = df['Purchase Address'].apply(city)\n",
        "df.head()"
      ],
      "metadata": {
        "colab": {
          "base_uri": "https://localhost:8080/",
          "height": 354
        },
        "id": "6scRvzWV7r29",
        "outputId": "279e0e17-47bd-4f06-c5df-442dc3251593"
      },
      "execution_count": 12,
      "outputs": [
        {
          "output_type": "execute_result",
          "data": {
            "text/plain": [
              "  Order ID                Product  Quantity Ordered  Price Each       Sales  \\\n",
              "0   248151  AA Batteries (4-pack)                 4    3.840000   15.360000   \n",
              "1   248152   USB-C Charging Cable                 2   11.950000   23.900000   \n",
              "2   248153   USB-C Charging Cable                 1   11.950000   11.950000   \n",
              "3   248154       27in FHD Monitor                 1  149.990005  149.990005   \n",
              "4   248155   USB-C Charging Cable                 1   11.950000   11.950000   \n",
              "\n",
              "       Order Date                       Purchase Address Month          City  \n",
              "0  09/17/19 14:44    380 North St, Los Angeles, CA 90001    09   Los Angeles  \n",
              "1  09/29/19 10:19           511 8th St, Austin, TX 73301    09        Austin  \n",
              "2  09/16/19 17:48  151 Johnson St, Los Angeles, CA 90001    09   Los Angeles  \n",
              "3  09/27/19 07:52      355 Hickory St, Seattle, WA 98101    09       Seattle  \n",
              "4  09/01/19 19:03          125 5th St, Atlanta, GA 30301    09       Atlanta  "
            ],
            "text/html": [
              "\n",
              "  <div id=\"df-15a5376f-3e0d-46b8-9b87-f4c4ffe94e97\">\n",
              "    <div class=\"colab-df-container\">\n",
              "      <div>\n",
              "<style scoped>\n",
              "    .dataframe tbody tr th:only-of-type {\n",
              "        vertical-align: middle;\n",
              "    }\n",
              "\n",
              "    .dataframe tbody tr th {\n",
              "        vertical-align: top;\n",
              "    }\n",
              "\n",
              "    .dataframe thead th {\n",
              "        text-align: right;\n",
              "    }\n",
              "</style>\n",
              "<table border=\"1\" class=\"dataframe\">\n",
              "  <thead>\n",
              "    <tr style=\"text-align: right;\">\n",
              "      <th></th>\n",
              "      <th>Order ID</th>\n",
              "      <th>Product</th>\n",
              "      <th>Quantity Ordered</th>\n",
              "      <th>Price Each</th>\n",
              "      <th>Sales</th>\n",
              "      <th>Order Date</th>\n",
              "      <th>Purchase Address</th>\n",
              "      <th>Month</th>\n",
              "      <th>City</th>\n",
              "    </tr>\n",
              "  </thead>\n",
              "  <tbody>\n",
              "    <tr>\n",
              "      <th>0</th>\n",
              "      <td>248151</td>\n",
              "      <td>AA Batteries (4-pack)</td>\n",
              "      <td>4</td>\n",
              "      <td>3.840000</td>\n",
              "      <td>15.360000</td>\n",
              "      <td>09/17/19 14:44</td>\n",
              "      <td>380 North St, Los Angeles, CA 90001</td>\n",
              "      <td>09</td>\n",
              "      <td>Los Angeles</td>\n",
              "    </tr>\n",
              "    <tr>\n",
              "      <th>1</th>\n",
              "      <td>248152</td>\n",
              "      <td>USB-C Charging Cable</td>\n",
              "      <td>2</td>\n",
              "      <td>11.950000</td>\n",
              "      <td>23.900000</td>\n",
              "      <td>09/29/19 10:19</td>\n",
              "      <td>511 8th St, Austin, TX 73301</td>\n",
              "      <td>09</td>\n",
              "      <td>Austin</td>\n",
              "    </tr>\n",
              "    <tr>\n",
              "      <th>2</th>\n",
              "      <td>248153</td>\n",
              "      <td>USB-C Charging Cable</td>\n",
              "      <td>1</td>\n",
              "      <td>11.950000</td>\n",
              "      <td>11.950000</td>\n",
              "      <td>09/16/19 17:48</td>\n",
              "      <td>151 Johnson St, Los Angeles, CA 90001</td>\n",
              "      <td>09</td>\n",
              "      <td>Los Angeles</td>\n",
              "    </tr>\n",
              "    <tr>\n",
              "      <th>3</th>\n",
              "      <td>248154</td>\n",
              "      <td>27in FHD Monitor</td>\n",
              "      <td>1</td>\n",
              "      <td>149.990005</td>\n",
              "      <td>149.990005</td>\n",
              "      <td>09/27/19 07:52</td>\n",
              "      <td>355 Hickory St, Seattle, WA 98101</td>\n",
              "      <td>09</td>\n",
              "      <td>Seattle</td>\n",
              "    </tr>\n",
              "    <tr>\n",
              "      <th>4</th>\n",
              "      <td>248155</td>\n",
              "      <td>USB-C Charging Cable</td>\n",
              "      <td>1</td>\n",
              "      <td>11.950000</td>\n",
              "      <td>11.950000</td>\n",
              "      <td>09/01/19 19:03</td>\n",
              "      <td>125 5th St, Atlanta, GA 30301</td>\n",
              "      <td>09</td>\n",
              "      <td>Atlanta</td>\n",
              "    </tr>\n",
              "  </tbody>\n",
              "</table>\n",
              "</div>\n",
              "      <button class=\"colab-df-convert\" onclick=\"convertToInteractive('df-15a5376f-3e0d-46b8-9b87-f4c4ffe94e97')\"\n",
              "              title=\"Convert this dataframe to an interactive table.\"\n",
              "              style=\"display:none;\">\n",
              "        \n",
              "  <svg xmlns=\"http://www.w3.org/2000/svg\" height=\"24px\"viewBox=\"0 0 24 24\"\n",
              "       width=\"24px\">\n",
              "    <path d=\"M0 0h24v24H0V0z\" fill=\"none\"/>\n",
              "    <path d=\"M18.56 5.44l.94 2.06.94-2.06 2.06-.94-2.06-.94-.94-2.06-.94 2.06-2.06.94zm-11 1L8.5 8.5l.94-2.06 2.06-.94-2.06-.94L8.5 2.5l-.94 2.06-2.06.94zm10 10l.94 2.06.94-2.06 2.06-.94-2.06-.94-.94-2.06-.94 2.06-2.06.94z\"/><path d=\"M17.41 7.96l-1.37-1.37c-.4-.4-.92-.59-1.43-.59-.52 0-1.04.2-1.43.59L10.3 9.45l-7.72 7.72c-.78.78-.78 2.05 0 2.83L4 21.41c.39.39.9.59 1.41.59.51 0 1.02-.2 1.41-.59l7.78-7.78 2.81-2.81c.8-.78.8-2.07 0-2.86zM5.41 20L4 18.59l7.72-7.72 1.47 1.35L5.41 20z\"/>\n",
              "  </svg>\n",
              "      </button>\n",
              "      \n",
              "  <style>\n",
              "    .colab-df-container {\n",
              "      display:flex;\n",
              "      flex-wrap:wrap;\n",
              "      gap: 12px;\n",
              "    }\n",
              "\n",
              "    .colab-df-convert {\n",
              "      background-color: #E8F0FE;\n",
              "      border: none;\n",
              "      border-radius: 50%;\n",
              "      cursor: pointer;\n",
              "      display: none;\n",
              "      fill: #1967D2;\n",
              "      height: 32px;\n",
              "      padding: 0 0 0 0;\n",
              "      width: 32px;\n",
              "    }\n",
              "\n",
              "    .colab-df-convert:hover {\n",
              "      background-color: #E2EBFA;\n",
              "      box-shadow: 0px 1px 2px rgba(60, 64, 67, 0.3), 0px 1px 3px 1px rgba(60, 64, 67, 0.15);\n",
              "      fill: #174EA6;\n",
              "    }\n",
              "\n",
              "    [theme=dark] .colab-df-convert {\n",
              "      background-color: #3B4455;\n",
              "      fill: #D2E3FC;\n",
              "    }\n",
              "\n",
              "    [theme=dark] .colab-df-convert:hover {\n",
              "      background-color: #434B5C;\n",
              "      box-shadow: 0px 1px 3px 1px rgba(0, 0, 0, 0.15);\n",
              "      filter: drop-shadow(0px 1px 2px rgba(0, 0, 0, 0.3));\n",
              "      fill: #FFFFFF;\n",
              "    }\n",
              "  </style>\n",
              "\n",
              "      <script>\n",
              "        const buttonEl =\n",
              "          document.querySelector('#df-15a5376f-3e0d-46b8-9b87-f4c4ffe94e97 button.colab-df-convert');\n",
              "        buttonEl.style.display =\n",
              "          google.colab.kernel.accessAllowed ? 'block' : 'none';\n",
              "\n",
              "        async function convertToInteractive(key) {\n",
              "          const element = document.querySelector('#df-15a5376f-3e0d-46b8-9b87-f4c4ffe94e97');\n",
              "          const dataTable =\n",
              "            await google.colab.kernel.invokeFunction('convertToInteractive',\n",
              "                                                     [key], {});\n",
              "          if (!dataTable) return;\n",
              "\n",
              "          const docLinkHtml = 'Like what you see? Visit the ' +\n",
              "            '<a target=\"_blank\" href=https://colab.research.google.com/notebooks/data_table.ipynb>data table notebook</a>'\n",
              "            + ' to learn more about interactive tables.';\n",
              "          element.innerHTML = '';\n",
              "          dataTable['output_type'] = 'display_data';\n",
              "          await google.colab.output.renderOutput(dataTable, element);\n",
              "          const docLink = document.createElement('div');\n",
              "          docLink.innerHTML = docLinkHtml;\n",
              "          element.appendChild(docLink);\n",
              "        }\n",
              "      </script>\n",
              "    </div>\n",
              "  </div>\n",
              "  "
            ]
          },
          "metadata": {},
          "execution_count": 12
        }
      ]
    },
    {
      "cell_type": "code",
      "source": [
        "city_sales = df.groupby('City').sum()['Sales']\n",
        "max_value  = city_sales.max()\n",
        "for city, sales in city_sales.items():\n",
        "    if city_sales[city] == max_value:\n",
        "        print (f'The city for the best sale is {city} with {sales}')"
      ],
      "metadata": {
        "colab": {
          "base_uri": "https://localhost:8080/"
        },
        "id": "WN71mVde7udY",
        "outputId": "bd896761-d0ea-4852-9166-8128f590dead"
      },
      "execution_count": 13,
      "outputs": [
        {
          "output_type": "stream",
          "name": "stdout",
          "text": [
            "The city for the best sale is  San Francisco with 8262204.0\n"
          ]
        }
      ]
    },
    {
      "cell_type": "markdown",
      "source": [
        "Why San Francisco has the best sales\n",
        "- Silicon Valley based in SF\n",
        "- The density of engineers located in SD. data?"
      ],
      "metadata": {
        "id": "MXKYYh877w1n"
      }
    },
    {
      "cell_type": "code",
      "source": [
        "# Visualization for the best\n",
        "city = [city for city,sales in city_sales.items()]\n",
        "plt.bar(x = city ,height = city_sales)\n",
        "plt.xticks(city, rotation=90,size = 8)\n",
        "plt.xlabel('Citites')\n",
        "plt.ylabel('Sales in USD')\n",
        "plt.show()"
      ],
      "metadata": {
        "colab": {
          "base_uri": "https://localhost:8080/",
          "height": 338
        },
        "id": "bzBgMUtB70nD",
        "outputId": "3a708cbc-1fee-4507-e578-3acb50b655d4"
      },
      "execution_count": 14,
      "outputs": [
        {
          "output_type": "display_data",
          "data": {
            "text/plain": [
              "<Figure size 432x288 with 1 Axes>"
            ],
            "image/png": "[encoded data removed]"
          },
          "metadata": {
            "needs_background": "light"
          }
        }
      ]
    },
    {
      "cell_type": "markdown",
      "source": [
        "### 3.3. What time should we display ads to maximize the likelihood of customer's buying product?"
      ],
      "metadata": {
        "id": "CADcVcjM728e"
      }
    },
    {
      "cell_type": "code",
      "source": [
        "df['Order Date'] = pd.to_datetime(df['Order Date'])\n",
        "df['Order Date'].dtypes"
      ],
      "metadata": {
        "colab": {
          "base_uri": "https://localhost:8080/"
        },
        "id": "ZS9cQnC275Gk",
        "outputId": "ff8c10a4-b5f5-4a34-a231-98b5de9f5d5a"
      },
      "execution_count": 15,
      "outputs": [
        {
          "output_type": "execute_result",
          "data": {
            "text/plain": [
              "dtype('<M8[ns]')"
            ]
          },
          "metadata": {},
          "execution_count": 15
        }
      ]
    },
    {
      "cell_type": "code",
      "source": [
        "df['Hours'] = df['Order Date'].dt.hour\n",
        "\n",
        "sale_value_hours = df.groupby('Hours').count()['Sales']\n",
        "hours = [hour for hour, sales in sale_value_hours.items()]\n",
        "print (hours)\n",
        "# Visualization\n",
        "plt.plot(hours, sale_value_hours)\n",
        "plt.grid()\n",
        "plt.xticks(hours, rotation = 0, size = 8)\n",
        "plt.xlabel('Hours')\n",
        "plt.ylabel('Sales in USD')\n",
        "plt.show()"
      ],
      "metadata": {
        "colab": {
          "base_uri": "https://localhost:8080/",
          "height": 295
        },
        "id": "XLNK3ZpR7_cw",
        "outputId": "43093819-9905-439b-d66e-7025b6a015a1"
      },
      "execution_count": 16,
      "outputs": [
        {
          "output_type": "stream",
          "name": "stdout",
          "text": [
            "[0, 1, 2, 3, 4, 5, 6, 7, 8, 9, 10, 11, 12, 13, 14, 15, 16, 17, 18, 19, 20, 21, 22, 23]\n"
          ]
        },
        {
          "output_type": "display_data",
          "data": {
            "text/plain": [
              "<Figure size 432x288 with 1 Axes>"
            ],
            "image/png": "[encoded data removed]"
          },
          "metadata": {
            "needs_background": "light"
          }
        }
      ]
    },
    {
      "cell_type": "markdown",
      "source": [
        "The line chart shows that the most number of orders are ordered at 12am and 19pm. We thus run advertisement at 30 minutes before these time "
      ],
      "metadata": {
        "id": "_5fnvxEG8B36"
      }
    },
    {
      "cell_type": "markdown",
      "source": [
        "### 3.4. What products are most often sold together?"
      ],
      "metadata": {
        "id": "xTL9iWjI8H43"
      }
    },
    {
      "cell_type": "code",
      "source": [
        "df_dup = df[df['Order ID'].duplicated(keep=False)]\n",
        "df_dup.head()"
      ],
      "metadata": {
        "colab": {
          "base_uri": "https://localhost:8080/",
          "height": 389
        },
        "id": "_cuYlyqC8Oxy",
        "outputId": "317b1092-c0ec-4976-eeea-73077ce7aa1a"
      },
      "execution_count": 19,
      "outputs": [
        {
          "output_type": "execute_result",
          "data": {
            "text/plain": [
              "   Order ID                     Product  Quantity Ordered  Price Each  \\\n",
              "20   248171        USB-C Charging Cable                 1   11.950000   \n",
              "21   248171        USB-C Charging Cable                 1   11.950000   \n",
              "60   248210                      iPhone                 1  700.000000   \n",
              "61   248210    Lightning Charging Cable                 1   14.950000   \n",
              "70   248219  Bose SoundSport Headphones                 1   99.989998   \n",
              "\n",
              "         Sales          Order Date  \\\n",
              "20   11.950000 2019-09-05 15:06:00   \n",
              "21   11.950000 2019-09-05 15:06:00   \n",
              "60  700.000000 2019-09-27 10:33:00   \n",
              "61   14.950000 2019-09-27 10:33:00   \n",
              "70   99.989998 2019-09-24 12:48:00   \n",
              "\n",
              "                              Purchase Address Month            City  Hours  \n",
              "20        705 Hill St, New York City, NY 10001    09   New York City     15  \n",
              "21        705 Hill St, New York City, NY 10001    09   New York City     15  \n",
              "60  292 Washington St, San Francisco, CA 94016    09   San Francisco     10  \n",
              "61  292 Washington St, San Francisco, CA 94016    09   San Francisco     10  \n",
              "70         665 Maple St, Los Angeles, CA 90001    09     Los Angeles     12  "
            ],
            "text/html": [
              "\n",
              "  <div id=\"df-8dd3d495-7b25-445f-ba15-9bedfca9d58a\">\n",
              "    <div class=\"colab-df-container\">\n",
              "      <div>\n",
              "<style scoped>\n",
              "    .dataframe tbody tr th:only-of-type {\n",
              "        vertical-align: middle;\n",
              "    }\n",
              "\n",
              "    .dataframe tbody tr th {\n",
              "        vertical-align: top;\n",
              "    }\n",
              "\n",
              "    .dataframe thead th {\n",
              "        text-align: right;\n",
              "    }\n",
              "</style>\n",
              "<table border=\"1\" class=\"dataframe\">\n",
              "  <thead>\n",
              "    <tr style=\"text-align: right;\">\n",
              "      <th></th>\n",
              "      <th>Order ID</th>\n",
              "      <th>Product</th>\n",
              "      <th>Quantity Ordered</th>\n",
              "      <th>Price Each</th>\n",
              "      <th>Sales</th>\n",
              "      <th>Order Date</th>\n",
              "      <th>Purchase Address</th>\n",
              "      <th>Month</th>\n",
              "      <th>City</th>\n",
              "      <th>Hours</th>\n",
              "    </tr>\n",
              "  </thead>\n",
              "  <tbody>\n",
              "    <tr>\n",
              "      <th>20</th>\n",
              "      <td>248171</td>\n",
              "      <td>USB-C Charging Cable</td>\n",
              "      <td>1</td>\n",
              "      <td>11.950000</td>\n",
              "      <td>11.950000</td>\n",
              "      <td>2019-09-05 15:06:00</td>\n",
              "      <td>705 Hill St, New York City, NY 10001</td>\n",
              "      <td>09</td>\n",
              "      <td>New York City</td>\n",
              "      <td>15</td>\n",
              "    </tr>\n",
              "    <tr>\n",
              "      <th>21</th>\n",
              "      <td>248171</td>\n",
              "      <td>USB-C Charging Cable</td>\n",
              "      <td>1</td>\n",
              "      <td>11.950000</td>\n",
              "      <td>11.950000</td>\n",
              "      <td>2019-09-05 15:06:00</td>\n",
              "      <td>705 Hill St, New York City, NY 10001</td>\n",
              "      <td>09</td>\n",
              "      <td>New York City</td>\n",
              "      <td>15</td>\n",
              "    </tr>\n",
              "    <tr>\n",
              "      <th>60</th>\n",
              "      <td>248210</td>\n",
              "      <td>iPhone</td>\n",
              "      <td>1</td>\n",
              "      <td>700.000000</td>\n",
              "      <td>700.000000</td>\n",
              "      <td>2019-09-27 10:33:00</td>\n",
              "      <td>292 Washington St, San Francisco, CA 94016</td>\n",
              "      <td>09</td>\n",
              "      <td>San Francisco</td>\n",
              "      <td>10</td>\n",
              "    </tr>\n",
              "    <tr>\n",
              "      <th>61</th>\n",
              "      <td>248210</td>\n",
              "      <td>Lightning Charging Cable</td>\n",
              "      <td>1</td>\n",
              "      <td>14.950000</td>\n",
              "      <td>14.950000</td>\n",
              "      <td>2019-09-27 10:33:00</td>\n",
              "      <td>292 Washington St, San Francisco, CA 94016</td>\n",
              "      <td>09</td>\n",
              "      <td>San Francisco</td>\n",
              "      <td>10</td>\n",
              "    </tr>\n",
              "    <tr>\n",
              "      <th>70</th>\n",
              "      <td>248219</td>\n",
              "      <td>Bose SoundSport Headphones</td>\n",
              "      <td>1</td>\n",
              "      <td>99.989998</td>\n",
              "      <td>99.989998</td>\n",
              "      <td>2019-09-24 12:48:00</td>\n",
              "      <td>665 Maple St, Los Angeles, CA 90001</td>\n",
              "      <td>09</td>\n",
              "      <td>Los Angeles</td>\n",
              "      <td>12</td>\n",
              "    </tr>\n",
              "  </tbody>\n",
              "</table>\n",
              "</div>\n",
              "      <button class=\"colab-df-convert\" onclick=\"convertToInteractive('df-8dd3d495-7b25-445f-ba15-9bedfca9d58a')\"\n",
              "              title=\"Convert this dataframe to an interactive table.\"\n",
              "              style=\"display:none;\">\n",
              "        \n",
              "  <svg xmlns=\"http://www.w3.org/2000/svg\" height=\"24px\"viewBox=\"0 0 24 24\"\n",
              "       width=\"24px\">\n",
              "    <path d=\"M0 0h24v24H0V0z\" fill=\"none\"/>\n",
              "    <path d=\"M18.56 5.44l.94 2.06.94-2.06 2.06-.94-2.06-.94-.94-2.06-.94 2.06-2.06.94zm-11 1L8.5 8.5l.94-2.06 2.06-.94-2.06-.94L8.5 2.5l-.94 2.06-2.06.94zm10 10l.94 2.06.94-2.06 2.06-.94-2.06-.94-.94-2.06-.94 2.06-2.06.94z\"/><path d=\"M17.41 7.96l-1.37-1.37c-.4-.4-.92-.59-1.43-.59-.52 0-1.04.2-1.43.59L10.3 9.45l-7.72 7.72c-.78.78-.78 2.05 0 2.83L4 21.41c.39.39.9.59 1.41.59.51 0 1.02-.2 1.41-.59l7.78-7.78 2.81-2.81c.8-.78.8-2.07 0-2.86zM5.41 20L4 18.59l7.72-7.72 1.47 1.35L5.41 20z\"/>\n",
              "  </svg>\n",
              "      </button>\n",
              "      \n",
              "  <style>\n",
              "    .colab-df-container {\n",
              "      display:flex;\n",
              "      flex-wrap:wrap;\n",
              "      gap: 12px;\n",
              "    }\n",
              "\n",
              "    .colab-df-convert {\n",
              "      background-color: #E8F0FE;\n",
              "      border: none;\n",
              "      border-radius: 50%;\n",
              "      cursor: pointer;\n",
              "      display: none;\n",
              "      fill: #1967D2;\n",
              "      height: 32px;\n",
              "      padding: 0 0 0 0;\n",
              "      width: 32px;\n",
              "    }\n",
              "\n",
              "    .colab-df-convert:hover {\n",
              "      background-color: #E2EBFA;\n",
              "      box-shadow: 0px 1px 2px rgba(60, 64, 67, 0.3), 0px 1px 3px 1px rgba(60, 64, 67, 0.15);\n",
              "      fill: #174EA6;\n",
              "    }\n",
              "\n",
              "    [theme=dark] .colab-df-convert {\n",
              "      background-color: #3B4455;\n",
              "      fill: #D2E3FC;\n",
              "    }\n",
              "\n",
              "    [theme=dark] .colab-df-convert:hover {\n",
              "      background-color: #434B5C;\n",
              "      box-shadow: 0px 1px 3px 1px rgba(0, 0, 0, 0.15);\n",
              "      filter: drop-shadow(0px 1px 2px rgba(0, 0, 0, 0.3));\n",
              "      fill: #FFFFFF;\n",
              "    }\n",
              "  </style>\n",
              "\n",
              "      <script>\n",
              "        const buttonEl =\n",
              "          document.querySelector('#df-8dd3d495-7b25-445f-ba15-9bedfca9d58a button.colab-df-convert');\n",
              "        buttonEl.style.display =\n",
              "          google.colab.kernel.accessAllowed ? 'block' : 'none';\n",
              "\n",
              "        async function convertToInteractive(key) {\n",
              "          const element = document.querySelector('#df-8dd3d495-7b25-445f-ba15-9bedfca9d58a');\n",
              "          const dataTable =\n",
              "            await google.colab.kernel.invokeFunction('convertToInteractive',\n",
              "                                                     [key], {});\n",
              "          if (!dataTable) return;\n",
              "\n",
              "          const docLinkHtml = 'Like what you see? Visit the ' +\n",
              "            '<a target=\"_blank\" href=https://colab.research.google.com/notebooks/data_table.ipynb>data table notebook</a>'\n",
              "            + ' to learn more about interactive tables.';\n",
              "          element.innerHTML = '';\n",
              "          dataTable['output_type'] = 'display_data';\n",
              "          await google.colab.output.renderOutput(dataTable, element);\n",
              "          const docLink = document.createElement('div');\n",
              "          docLink.innerHTML = docLinkHtml;\n",
              "          element.appendChild(docLink);\n",
              "        }\n",
              "      </script>\n",
              "    </div>\n",
              "  </div>\n",
              "  "
            ]
          },
          "metadata": {},
          "execution_count": 19
        }
      ]
    },
    {
      "cell_type": "code",
      "source": [
        "joinProduct = lambda product: ', '.join(product)"
      ],
      "metadata": {
        "id": "pgsWbuBb9Aow"
      },
      "execution_count": null,
      "outputs": []
    },
    {
      "cell_type": "code",
      "source": [
        "df_dup['All Product'] = df_dup.groupby('Order ID')['Product'].transform(', '.join)\n",
        "df_dup.head()"
      ],
      "metadata": {
        "colab": {
          "base_uri": "https://localhost:8080/",
          "height": 617
        },
        "id": "lZqGEuze8fir",
        "outputId": "f6562e8a-d90d-4afe-ff56-4c9e42e0e985"
      },
      "execution_count": 23,
      "outputs": [
        {
          "output_type": "stream",
          "name": "stderr",
          "text": [
            "/usr/local/lib/python3.7/dist-packages/ipykernel_launcher.py:1: SettingWithCopyWarning: \n",
            "A value is trying to be set on a copy of a slice from a DataFrame.\n",
            "Try using .loc[row_indexer,col_indexer] = value instead\n",
            "\n",
            "See the caveats in the documentation: https://pandas.pydata.org/pandas-docs/stable/user_guide/indexing.html#returning-a-view-versus-a-copy\n",
            "  \"\"\"Entry point for launching an IPython kernel.\n"
          ]
        },
        {
          "output_type": "execute_result",
          "data": {
            "text/plain": [
              "   Order ID                     Product  Quantity Ordered  Price Each  \\\n",
              "20   248171        USB-C Charging Cable                 1   11.950000   \n",
              "21   248171        USB-C Charging Cable                 1   11.950000   \n",
              "60   248210                      iPhone                 1  700.000000   \n",
              "61   248210    Lightning Charging Cable                 1   14.950000   \n",
              "70   248219  Bose SoundSport Headphones                 1   99.989998   \n",
              "\n",
              "         Sales          Order Date  \\\n",
              "20   11.950000 2019-09-05 15:06:00   \n",
              "21   11.950000 2019-09-05 15:06:00   \n",
              "60  700.000000 2019-09-27 10:33:00   \n",
              "61   14.950000 2019-09-27 10:33:00   \n",
              "70   99.989998 2019-09-24 12:48:00   \n",
              "\n",
              "                              Purchase Address Month            City  Hours  \\\n",
              "20        705 Hill St, New York City, NY 10001    09   New York City     15   \n",
              "21        705 Hill St, New York City, NY 10001    09   New York City     15   \n",
              "60  292 Washington St, San Francisco, CA 94016    09   San Francisco     10   \n",
              "61  292 Washington St, San Francisco, CA 94016    09   San Francisco     10   \n",
              "70         665 Maple St, Los Angeles, CA 90001    09     Los Angeles     12   \n",
              "\n",
              "                                   All Product  \n",
              "20  USB-C Charging Cable, USB-C Charging Cable  \n",
              "21  USB-C Charging Cable, USB-C Charging Cable  \n",
              "60            iPhone, Lightning Charging Cable  \n",
              "61            iPhone, Lightning Charging Cable  \n",
              "70    Bose SoundSport Headphones, Google Phone  "
            ],
            "text/html": [
              "\n",
              "  <div id=\"df-63167223-1116-4927-a28c-b8ad750fe019\">\n",
              "    <div class=\"colab-df-container\">\n",
              "      <div>\n",
              "<style scoped>\n",
              "    .dataframe tbody tr th:only-of-type {\n",
              "        vertical-align: middle;\n",
              "    }\n",
              "\n",
              "    .dataframe tbody tr th {\n",
              "        vertical-align: top;\n",
              "    }\n",
              "\n",
              "    .dataframe thead th {\n",
              "        text-align: right;\n",
              "    }\n",
              "</style>\n",
              "<table border=\"1\" class=\"dataframe\">\n",
              "  <thead>\n",
              "    <tr style=\"text-align: right;\">\n",
              "      <th></th>\n",
              "      <th>Order ID</th>\n",
              "      <th>Product</th>\n",
              "      <th>Quantity Ordered</th>\n",
              "      <th>Price Each</th>\n",
              "      <th>Sales</th>\n",
              "      <th>Order Date</th>\n",
              "      <th>Purchase Address</th>\n",
              "      <th>Month</th>\n",
              "      <th>City</th>\n",
              "      <th>Hours</th>\n",
              "      <th>All Product</th>\n",
              "    </tr>\n",
              "  </thead>\n",
              "  <tbody>\n",
              "    <tr>\n",
              "      <th>20</th>\n",
              "      <td>248171</td>\n",
              "      <td>USB-C Charging Cable</td>\n",
              "      <td>1</td>\n",
              "      <td>11.950000</td>\n",
              "      <td>11.950000</td>\n",
              "      <td>2019-09-05 15:06:00</td>\n",
              "      <td>705 Hill St, New York City, NY 10001</td>\n",
              "      <td>09</td>\n",
              "      <td>New York City</td>\n",
              "      <td>15</td>\n",
              "      <td>USB-C Charging Cable, USB-C Charging Cable</td>\n",
              "    </tr>\n",
              "    <tr>\n",
              "      <th>21</th>\n",
              "      <td>248171</td>\n",
              "      <td>USB-C Charging Cable</td>\n",
              "      <td>1</td>\n",
              "      <td>11.950000</td>\n",
              "      <td>11.950000</td>\n",
              "      <td>2019-09-05 15:06:00</td>\n",
              "      <td>705 Hill St, New York City, NY 10001</td>\n",
              "      <td>09</td>\n",
              "      <td>New York City</td>\n",
              "      <td>15</td>\n",
              "      <td>USB-C Charging Cable, USB-C Charging Cable</td>\n",
              "    </tr>\n",
              "    <tr>\n",
              "      <th>60</th>\n",
              "      <td>248210</td>\n",
              "      <td>iPhone</td>\n",
              "      <td>1</td>\n",
              "      <td>700.000000</td>\n",
              "      <td>700.000000</td>\n",
              "      <td>2019-09-27 10:33:00</td>\n",
              "      <td>292 Washington St, San Francisco, CA 94016</td>\n",
              "      <td>09</td>\n",
              "      <td>San Francisco</td>\n",
              "      <td>10</td>\n",
              "      <td>iPhone, Lightning Charging Cable</td>\n",
              "    </tr>\n",
              "    <tr>\n",
              "      <th>61</th>\n",
              "      <td>248210</td>\n",
              "      <td>Lightning Charging Cable</td>\n",
              "      <td>1</td>\n",
              "      <td>14.950000</td>\n",
              "      <td>14.950000</td>\n",
              "      <td>2019-09-27 10:33:00</td>\n",
              "      <td>292 Washington St, San Francisco, CA 94016</td>\n",
              "      <td>09</td>\n",
              "      <td>San Francisco</td>\n",
              "      <td>10</td>\n",
              "      <td>iPhone, Lightning Charging Cable</td>\n",
              "    </tr>\n",
              "    <tr>\n",
              "      <th>70</th>\n",
              "      <td>248219</td>\n",
              "      <td>Bose SoundSport Headphones</td>\n",
              "      <td>1</td>\n",
              "      <td>99.989998</td>\n",
              "      <td>99.989998</td>\n",
              "      <td>2019-09-24 12:48:00</td>\n",
              "      <td>665 Maple St, Los Angeles, CA 90001</td>\n",
              "      <td>09</td>\n",
              "      <td>Los Angeles</td>\n",
              "      <td>12</td>\n",
              "      <td>Bose SoundSport Headphones, Google Phone</td>\n",
              "    </tr>\n",
              "  </tbody>\n",
              "</table>\n",
              "</div>\n",
              "      <button class=\"colab-df-convert\" onclick=\"convertToInteractive('df-63167223-1116-4927-a28c-b8ad750fe019')\"\n",
              "              title=\"Convert this dataframe to an interactive table.\"\n",
              "              style=\"display:none;\">\n",
              "        \n",
              "  <svg xmlns=\"http://www.w3.org/2000/svg\" height=\"24px\"viewBox=\"0 0 24 24\"\n",
              "       width=\"24px\">\n",
              "    <path d=\"M0 0h24v24H0V0z\" fill=\"none\"/>\n",
              "    <path d=\"M18.56 5.44l.94 2.06.94-2.06 2.06-.94-2.06-.94-.94-2.06-.94 2.06-2.06.94zm-11 1L8.5 8.5l.94-2.06 2.06-.94-2.06-.94L8.5 2.5l-.94 2.06-2.06.94zm10 10l.94 2.06.94-2.06 2.06-.94-2.06-.94-.94-2.06-.94 2.06-2.06.94z\"/><path d=\"M17.41 7.96l-1.37-1.37c-.4-.4-.92-.59-1.43-.59-.52 0-1.04.2-1.43.59L10.3 9.45l-7.72 7.72c-.78.78-.78 2.05 0 2.83L4 21.41c.39.39.9.59 1.41.59.51 0 1.02-.2 1.41-.59l7.78-7.78 2.81-2.81c.8-.78.8-2.07 0-2.86zM5.41 20L4 18.59l7.72-7.72 1.47 1.35L5.41 20z\"/>\n",
              "  </svg>\n",
              "      </button>\n",
              "      \n",
              "  <style>\n",
              "    .colab-df-container {\n",
              "      display:flex;\n",
              "      flex-wrap:wrap;\n",
              "      gap: 12px;\n",
              "    }\n",
              "\n",
              "    .colab-df-convert {\n",
              "      background-color: #E8F0FE;\n",
              "      border: none;\n",
              "      border-radius: 50%;\n",
              "      cursor: pointer;\n",
              "      display: none;\n",
              "      fill: #1967D2;\n",
              "      height: 32px;\n",
              "      padding: 0 0 0 0;\n",
              "      width: 32px;\n",
              "    }\n",
              "\n",
              "    .colab-df-convert:hover {\n",
              "      background-color: #E2EBFA;\n",
              "      box-shadow: 0px 1px 2px rgba(60, 64, 67, 0.3), 0px 1px 3px 1px rgba(60, 64, 67, 0.15);\n",
              "      fill: #174EA6;\n",
              "    }\n",
              "\n",
              "    [theme=dark] .colab-df-convert {\n",
              "      background-color: #3B4455;\n",
              "      fill: #D2E3FC;\n",
              "    }\n",
              "\n",
              "    [theme=dark] .colab-df-convert:hover {\n",
              "      background-color: #434B5C;\n",
              "      box-shadow: 0px 1px 3px 1px rgba(0, 0, 0, 0.15);\n",
              "      filter: drop-shadow(0px 1px 2px rgba(0, 0, 0, 0.3));\n",
              "      fill: #FFFFFF;\n",
              "    }\n",
              "  </style>\n",
              "\n",
              "      <script>\n",
              "        const buttonEl =\n",
              "          document.querySelector('#df-63167223-1116-4927-a28c-b8ad750fe019 button.colab-df-convert');\n",
              "        buttonEl.style.display =\n",
              "          google.colab.kernel.accessAllowed ? 'block' : 'none';\n",
              "\n",
              "        async function convertToInteractive(key) {\n",
              "          const element = document.querySelector('#df-63167223-1116-4927-a28c-b8ad750fe019');\n",
              "          const dataTable =\n",
              "            await google.colab.kernel.invokeFunction('convertToInteractive',\n",
              "                                                     [key], {});\n",
              "          if (!dataTable) return;\n",
              "\n",
              "          const docLinkHtml = 'Like what you see? Visit the ' +\n",
              "            '<a target=\"_blank\" href=https://colab.research.google.com/notebooks/data_table.ipynb>data table notebook</a>'\n",
              "            + ' to learn more about interactive tables.';\n",
              "          element.innerHTML = '';\n",
              "          dataTable['output_type'] = 'display_data';\n",
              "          await google.colab.output.renderOutput(dataTable, element);\n",
              "          const docLink = document.createElement('div');\n",
              "          docLink.innerHTML = docLinkHtml;\n",
              "          element.appendChild(docLink);\n",
              "        }\n",
              "      </script>\n",
              "    </div>\n",
              "  </div>\n",
              "  "
            ]
          },
          "metadata": {},
          "execution_count": 23
        }
      ]
    },
    {
      "cell_type": "code",
      "source": [
        "df_dup = df_dup[['Order ID','All Product']].drop_duplicates()\n",
        "df_dup.head()"
      ],
      "metadata": {
        "colab": {
          "base_uri": "https://localhost:8080/",
          "height": 206
        },
        "id": "4MMHqQn79gqF",
        "outputId": "4d59f571-647a-4d6a-fba9-c78af45106d9"
      },
      "execution_count": 24,
      "outputs": [
        {
          "output_type": "execute_result",
          "data": {
            "text/plain": [
              "    Order ID                                  All Product\n",
              "20    248171   USB-C Charging Cable, USB-C Charging Cable\n",
              "60    248210             iPhone, Lightning Charging Cable\n",
              "70    248219     Bose SoundSport Headphones, Google Phone\n",
              "117   248265  Vareebadd Phone, Bose SoundSport Headphones\n",
              "176   248323     Google Phone, Bose SoundSport Headphones"
            ],
            "text/html": [
              "\n",
              "  <div id=\"df-ae352d42-b2bd-492e-8f9d-ec5652ba6443\">\n",
              "    <div class=\"colab-df-container\">\n",
              "      <div>\n",
              "<style scoped>\n",
              "    .dataframe tbody tr th:only-of-type {\n",
              "        vertical-align: middle;\n",
              "    }\n",
              "\n",
              "    .dataframe tbody tr th {\n",
              "        vertical-align: top;\n",
              "    }\n",
              "\n",
              "    .dataframe thead th {\n",
              "        text-align: right;\n",
              "    }\n",
              "</style>\n",
              "<table border=\"1\" class=\"dataframe\">\n",
              "  <thead>\n",
              "    <tr style=\"text-align: right;\">\n",
              "      <th></th>\n",
              "      <th>Order ID</th>\n",
              "      <th>All Product</th>\n",
              "    </tr>\n",
              "  </thead>\n",
              "  <tbody>\n",
              "    <tr>\n",
              "      <th>20</th>\n",
              "      <td>248171</td>\n",
              "      <td>USB-C Charging Cable, USB-C Charging Cable</td>\n",
              "    </tr>\n",
              "    <tr>\n",
              "      <th>60</th>\n",
              "      <td>248210</td>\n",
              "      <td>iPhone, Lightning Charging Cable</td>\n",
              "    </tr>\n",
              "    <tr>\n",
              "      <th>70</th>\n",
              "      <td>248219</td>\n",
              "      <td>Bose SoundSport Headphones, Google Phone</td>\n",
              "    </tr>\n",
              "    <tr>\n",
              "      <th>117</th>\n",
              "      <td>248265</td>\n",
              "      <td>Vareebadd Phone, Bose SoundSport Headphones</td>\n",
              "    </tr>\n",
              "    <tr>\n",
              "      <th>176</th>\n",
              "      <td>248323</td>\n",
              "      <td>Google Phone, Bose SoundSport Headphones</td>\n",
              "    </tr>\n",
              "  </tbody>\n",
              "</table>\n",
              "</div>\n",
              "      <button class=\"colab-df-convert\" onclick=\"convertToInteractive('df-ae352d42-b2bd-492e-8f9d-ec5652ba6443')\"\n",
              "              title=\"Convert this dataframe to an interactive table.\"\n",
              "              style=\"display:none;\">\n",
              "        \n",
              "  <svg xmlns=\"http://www.w3.org/2000/svg\" height=\"24px\"viewBox=\"0 0 24 24\"\n",
              "       width=\"24px\">\n",
              "    <path d=\"M0 0h24v24H0V0z\" fill=\"none\"/>\n",
              "    <path d=\"M18.56 5.44l.94 2.06.94-2.06 2.06-.94-2.06-.94-.94-2.06-.94 2.06-2.06.94zm-11 1L8.5 8.5l.94-2.06 2.06-.94-2.06-.94L8.5 2.5l-.94 2.06-2.06.94zm10 10l.94 2.06.94-2.06 2.06-.94-2.06-.94-.94-2.06-.94 2.06-2.06.94z\"/><path d=\"M17.41 7.96l-1.37-1.37c-.4-.4-.92-.59-1.43-.59-.52 0-1.04.2-1.43.59L10.3 9.45l-7.72 7.72c-.78.78-.78 2.05 0 2.83L4 21.41c.39.39.9.59 1.41.59.51 0 1.02-.2 1.41-.59l7.78-7.78 2.81-2.81c.8-.78.8-2.07 0-2.86zM5.41 20L4 18.59l7.72-7.72 1.47 1.35L5.41 20z\"/>\n",
              "  </svg>\n",
              "      </button>\n",
              "      \n",
              "  <style>\n",
              "    .colab-df-container {\n",
              "      display:flex;\n",
              "      flex-wrap:wrap;\n",
              "      gap: 12px;\n",
              "    }\n",
              "\n",
              "    .colab-df-convert {\n",
              "      background-color: #E8F0FE;\n",
              "      border: none;\n",
              "      border-radius: 50%;\n",
              "      cursor: pointer;\n",
              "      display: none;\n",
              "      fill: #1967D2;\n",
              "      height: 32px;\n",
              "      padding: 0 0 0 0;\n",
              "      width: 32px;\n",
              "    }\n",
              "\n",
              "    .colab-df-convert:hover {\n",
              "      background-color: #E2EBFA;\n",
              "      box-shadow: 0px 1px 2px rgba(60, 64, 67, 0.3), 0px 1px 3px 1px rgba(60, 64, 67, 0.15);\n",
              "      fill: #174EA6;\n",
              "    }\n",
              "\n",
              "    [theme=dark] .colab-df-convert {\n",
              "      background-color: #3B4455;\n",
              "      fill: #D2E3FC;\n",
              "    }\n",
              "\n",
              "    [theme=dark] .colab-df-convert:hover {\n",
              "      background-color: #434B5C;\n",
              "      box-shadow: 0px 1px 3px 1px rgba(0, 0, 0, 0.15);\n",
              "      filter: drop-shadow(0px 1px 2px rgba(0, 0, 0, 0.3));\n",
              "      fill: #FFFFFF;\n",
              "    }\n",
              "  </style>\n",
              "\n",
              "      <script>\n",
              "        const buttonEl =\n",
              "          document.querySelector('#df-ae352d42-b2bd-492e-8f9d-ec5652ba6443 button.colab-df-convert');\n",
              "        buttonEl.style.display =\n",
              "          google.colab.kernel.accessAllowed ? 'block' : 'none';\n",
              "\n",
              "        async function convertToInteractive(key) {\n",
              "          const element = document.querySelector('#df-ae352d42-b2bd-492e-8f9d-ec5652ba6443');\n",
              "          const dataTable =\n",
              "            await google.colab.kernel.invokeFunction('convertToInteractive',\n",
              "                                                     [key], {});\n",
              "          if (!dataTable) return;\n",
              "\n",
              "          const docLinkHtml = 'Like what you see? Visit the ' +\n",
              "            '<a target=\"_blank\" href=https://colab.research.google.com/notebooks/data_table.ipynb>data table notebook</a>'\n",
              "            + ' to learn more about interactive tables.';\n",
              "          element.innerHTML = '';\n",
              "          dataTable['output_type'] = 'display_data';\n",
              "          await google.colab.output.renderOutput(dataTable, element);\n",
              "          const docLink = document.createElement('div');\n",
              "          docLink.innerHTML = docLinkHtml;\n",
              "          element.appendChild(docLink);\n",
              "        }\n",
              "      </script>\n",
              "    </div>\n",
              "  </div>\n",
              "  "
            ]
          },
          "metadata": {},
          "execution_count": 24
        }
      ]
    },
    {
      "cell_type": "code",
      "source": [
        "df_dup['All Product'].value_counts()"
      ],
      "metadata": {
        "colab": {
          "base_uri": "https://localhost:8080/"
        },
        "id": "iv58Ik8F9vSl",
        "outputId": "0ef31b85-e5e0-46a5-c694-e6a3f6a52781"
      },
      "execution_count": 25,
      "outputs": [
        {
          "output_type": "execute_result",
          "data": {
            "text/plain": [
              "iPhone, Lightning Charging Cable                                882\n",
              "Google Phone, USB-C Charging Cable                              856\n",
              "iPhone, Wired Headphones                                        361\n",
              "Vareebadd Phone, USB-C Charging Cable                           312\n",
              "Google Phone, Wired Headphones                                  303\n",
              "                                                               ... \n",
              "Google Phone, Flatscreen TV                                       1\n",
              "iPhone, Lightning Charging Cable, AAA Batteries (4-pack)          1\n",
              "Google Phone, USB-C Charging Cable, Lightning Charging Cable      1\n",
              "iPhone, 27in FHD Monitor                                          1\n",
              "Vareebadd Phone, Wired Headphones, 27in 4K Gaming Monitor         1\n",
              "Name: All Product, Length: 366, dtype: int64"
            ]
          },
          "metadata": {},
          "execution_count": 25
        }
      ]
    },
    {
      "cell_type": "markdown",
      "source": [
        "### 3.5. What product sold the most? Why do you think it sold the most?"
      ],
      "metadata": {
        "id": "Ng-7gBCu99pL"
      }
    },
    {
      "cell_type": "code",
      "source": [
        "all_products = df.groupby('Product').sum()['Quantity Ordered']\n",
        "all_products.head()"
      ],
      "metadata": {
        "colab": {
          "base_uri": "https://localhost:8080/"
        },
        "id": "bA4NylXO-EW9",
        "outputId": "4311e6e4-f775-4bed-e676-73c192a4392b"
      },
      "execution_count": 31,
      "outputs": [
        {
          "output_type": "execute_result",
          "data": {
            "text/plain": [
              "Product\n",
              "20in Monitor               4129.0\n",
              "27in 4K Gaming Monitor     6244.0\n",
              "27in FHD Monitor           7550.0\n",
              "34in Ultrawide Monitor     6199.0\n",
              "AA Batteries (4-pack)     27635.0\n",
              "Name: Quantity Ordered, dtype: float64"
            ]
          },
          "metadata": {},
          "execution_count": 31
        }
      ]
    },
    {
      "cell_type": "code",
      "source": [
        "# Visualization\n",
        "products_ls = [product for product, quant in all_products.items()]\n",
        "plt.bar(products_ls, all_products)\n",
        "plt.xticks(products_ls,rotation=90,size=8)\n",
        "plt.xlabel('Products')\n",
        "plt.ylabel('Quantity')\n",
        "plt.show()"
      ],
      "metadata": {
        "colab": {
          "base_uri": "https://localhost:8080/",
          "height": 391
        },
        "id": "Sc9hO2fb-fIF",
        "outputId": "8429744d-78b4-4e6f-bd5a-f2457fc5170f"
      },
      "execution_count": 29,
      "outputs": [
        {
          "output_type": "display_data",
          "data": {
            "text/plain": [
              "<Figure size 432x288 with 1 Axes>"
            ],
            "image/png": "[encoded data removed]"
          },
          "metadata": {
            "needs_background": "light"
          }
        }
      ]
    },
    {
      "cell_type": "markdown",
      "source": [
        "The line chart shows that the most number of orders are ordered at 12am and 19pm. We thus run advertisement at 30 minutes before these time "
      ],
      "metadata": {
        "id": "q32x8vuL_bFT"
      }
    },
    {
      "cell_type": "code",
      "source": [
        "all_products = df.groupby('Product').sum()['Quantity Ordered']\n",
        "prices = df.groupby('Product').mean()['Price Each']\n",
        "products_ls = [product for product, quant in all_products.items()]\n",
        "\n",
        "x = products_ls\n",
        "y1 = all_products\n",
        "y2 = prices\n",
        "\n",
        "fig, ax1 = plt.subplots()\n",
        "\n",
        "ax2 = ax1.twinx()\n",
        "ax1.bar(x, y1, color='g')\n",
        "ax2.plot(x, y2, 'b-')\n",
        "\n",
        "ax1.set_xticklabels(products_ls, rotation=90, size=8)\n",
        "ax1.set_xlabel('Products')\n",
        "ax1.set_ylabel('Quantity Ordered', color='g')\n",
        "ax2.set_ylabel('Price Each', color='b')\n",
        "\n",
        "plt.show()"
      ],
      "metadata": {
        "colab": {
          "base_uri": "https://localhost:8080/",
          "height": 391
        },
        "id": "ESjzyX3d-zn1",
        "outputId": "83e44b9a-0f59-4d76-f2a6-74564c4730f8"
      },
      "execution_count": 32,
      "outputs": [
        {
          "output_type": "display_data",
          "data": {
            "text/plain": [
              "<Figure size 432x288 with 2 Axes>"
            ],
            "image/png": "[encoded data removed]"
          },
          "metadata": {
            "needs_background": "light"
          }
        }
      ]
    },
    {
      "cell_type": "markdown",
      "source": [
        "#### 4. Conclusion\n",
        "\n",
        "\n",
        "*   The quantity of orders increased sharply in the last months of the year, especially in December. This may be because of the special holiday: New Year, Christmas. \n",
        "*   Orders are gathered so much at 12am or 19pm when customers takes a break time, so advertisement campaign could be implemented before 30 minutes at this time\n",
        "\n",
        "\n",
        "*   Both AA Batteries and AAA Batteries are the top items purchased because of their low prices. \n",
        "*   Although the prices of LG Dryver and LG Washing Machine are lower than that of Macbook Pro, they are not as popular as Macbook Pro laptop. It is considered that this can be affected by brand.\n",
        "\n",
        "\n",
        "\n",
        "\n"
      ],
      "metadata": {
        "id": "CwXrHeyB_ebP"
      }
    }
  ]
}